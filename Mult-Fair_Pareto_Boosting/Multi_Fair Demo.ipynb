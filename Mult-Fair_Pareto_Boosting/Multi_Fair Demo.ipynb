{
 "cells": [
  {
   "cell_type": "code",
   "execution_count": 1,
   "metadata": {},
   "outputs": [
    {
     "name": "stderr",
     "output_type": "stream",
     "text": [
      "C:\\Users\\Arjun\\Anaconda3\\lib\\site-packages\\sklearn\\utils\\deprecation.py:143: FutureWarning: The sklearn.ensemble.forest module is  deprecated in version 0.22 and will be removed in version 0.24. The corresponding classes / functions should instead be imported from sklearn.ensemble. Anything that cannot be imported from sklearn.ensemble is now part of the private API.\n",
      "  warnings.warn(message, FutureWarning)\n",
      "C:\\Users\\Arjun\\Anaconda3\\lib\\site-packages\\sklearn\\utils\\deprecation.py:143: FutureWarning: The sklearn.tree.tree module is  deprecated in version 0.22 and will be removed in version 0.24. The corresponding classes / functions should instead be imported from sklearn.tree. Anything that cannot be imported from sklearn.tree is now part of the private API.\n",
      "  warnings.warn(message, FutureWarning)\n",
      "C:\\Users\\Arjun\\Anaconda3\\lib\\site-packages\\sklearn\\utils\\deprecation.py:143: FutureWarning: The sklearn.neighbors.base module is  deprecated in version 0.22 and will be removed in version 0.24. The corresponding classes / functions should instead be imported from sklearn.neighbors. Anything that cannot be imported from sklearn.neighbors is now part of the private API.\n",
      "  warnings.warn(message, FutureWarning)\n",
      "C:\\Users\\Arjun\\Anaconda3\\lib\\site-packages\\sklearn\\utils\\deprecation.py:143: FutureWarning: The sklearn.ensemble.bagging module is  deprecated in version 0.22 and will be removed in version 0.24. The corresponding classes / functions should instead be imported from sklearn.ensemble. Anything that cannot be imported from sklearn.ensemble is now part of the private API.\n",
      "  warnings.warn(message, FutureWarning)\n",
      "C:\\Users\\Arjun\\Anaconda3\\lib\\site-packages\\sklearn\\utils\\deprecation.py:143: FutureWarning: The sklearn.ensemble.base module is  deprecated in version 0.22 and will be removed in version 0.24. The corresponding classes / functions should instead be imported from sklearn.ensemble. Anything that cannot be imported from sklearn.ensemble is now part of the private API.\n",
      "  warnings.warn(message, FutureWarning)\n",
      "Using TensorFlow backend.\n",
      "C:\\Users\\Arjun\\Anaconda3\\lib\\site-packages\\sklearn\\utils\\deprecation.py:143: FutureWarning: The sklearn.utils.testing module is  deprecated in version 0.22 and will be removed in version 0.24. The corresponding classes / functions should instead be imported from sklearn.utils. Anything that cannot be imported from sklearn.utils is now part of the private API.\n",
      "  warnings.warn(message, FutureWarning)\n",
      "C:\\Users\\Arjun\\Anaconda3\\lib\\site-packages\\sklearn\\utils\\deprecation.py:143: FutureWarning: The sklearn.metrics.classification module is  deprecated in version 0.22 and will be removed in version 0.24. The corresponding classes / functions should instead be imported from sklearn.metrics. Anything that cannot be imported from sklearn.metrics is now part of the private API.\n",
      "  warnings.warn(message, FutureWarning)\n"
     ]
    }
   ],
   "source": [
    "from Maximus_optimized_non_dominated import Multi_Fair as maximus\n",
    "from sklearn.model_selection import StratifiedShuffleSplit as ss\n",
    "from DataPreprocessing.my_utils import get_score,get_fairness,vis"
   ]
  },
  {
   "cell_type": "code",
   "execution_count": 2,
   "metadata": {},
   "outputs": [],
   "source": [
    " def train_classifier1(X_train, X_test, y_train, y_test, sa_index, p_Group, base_learners,preference):\n",
    "    \n",
    "    classifier = maximus(n_estimators=base_learners, saIndex=sa_index, saValue=p_Group,preference=preference)\n",
    "    \n",
    "    classifier.fit(X_train, y_train)\n",
    "    \n",
    "    y_pred_probs = classifier.predict_proba(X_test)[:, 1]\n",
    "    y_pred_labels = classifier.predict(X_test)\n",
    "    f=classifier.feature_importances_\n",
    "    #return classifier.conf_scores, classifier.get_weights_over_iterations(), classifier.get_initial_weights()\n",
    "    return y_pred_probs, y_pred_labels,classifier\n"
   ]
  },
  {
   "cell_type": "code",
   "execution_count": 12,
   "metadata": {},
   "outputs": [],
   "source": [
    "def train(X,y):\n",
    "    in_ts,pred1,fx=[],[],[]\n",
    "    sss = ss(n_splits=5,test_size=0.4)    \n",
    "    for train_index, test_index in sss.split(X, y):\n",
    "        X_train, X_test = X[train_index], X[test_index]\n",
    "        y_train, y_test = y[train_index], y[test_index]\n",
    "        in_ts.append(test_index)    \n",
    "        pb1,pd1,f1=train_classifier1(X_train, X_test, y_train, y_test, sa_index,     p_Group, 499,[0.33,0.34,0.33])\n",
    "        pred1.append(pd1)\n",
    "        fx.append(f1)\n",
    "        print(f1.theta-1,\" : \",f1.ob[f1.theta-1])\n",
    "    return in_ts,pred1,fx"
   ]
  },
  {
   "cell_type": "code",
   "execution_count": 13,
   "metadata": {},
   "outputs": [
    {
     "name": "stdout",
     "output_type": "stream",
     "text": [
      "Features we will be using for classification are: ['age_cat_25 - 45', 'age_cat_Greater than 45', 'age_cat_Less than 25', 'race', 'sex', 'priors_count', 'c_charge_degree', 'target'] \n",
      "\n",
      "going\n",
      "105  :  [0.34491472 0.00834023 0.04984424]\n",
      "going\n",
      "105  :  [0.33891346 0.01602889 0.08934119]\n",
      "going\n",
      "117  :  [0.3357549  0.06585323 0.09609883]\n",
      "going\n",
      "139  :  [0.34080859 0.02974987 0.06660936]\n",
      "going\n",
      "77  :  [0.33986102 0.09135569 0.04850976]\n",
      "\n",
      "\n",
      "For Sensitive attribute index  4\n",
      "avg_TPR_unprot: 0.6751112767806579 avg_TPR_prot: 0.68829321840291\n",
      "avg_TNR_unprot: 0.6383183359615673 avg_TNR_prot: 0.622128846141885\n",
      "\n",
      "-------------------------------------------\n",
      "\n",
      "\n",
      "\n",
      "For Sensitive attribute index  3\n",
      "avg_TPR_unprot: 0.6428515011820437 avg_TPR_prot: 0.6947004480755558\n",
      "avg_TNR_unprot: 0.6287279783443929 avg_TNR_prot: 0.6394380538245288\n",
      "\n",
      "-------------------------------------------\n",
      "\n",
      "avg_TPR: 0.6770623742454729 avg_TNR: 0.634525939177102\n",
      "avg_acc: 0.6545454545454545 avg_Bacc: 0.6557941567112874\n",
      "avg_auc: 0.6557941567112875 avg_GM: 0.6552132487694481\n"
     ]
    }
   ],
   "source": [
    "results,performance,Hx=[],[],[]\n",
    "for dt in ['Compas']:\n",
    "    if dt=='Adult':\n",
    "        from DataPreprocessing.load_adult import load_adult\n",
    "        X, y, sa_index, p_Group, x_control,F = load_adult()\n",
    "        #v='Adult_2_sensi_Mari_Sex'\n",
    "        saf=sa_index[1]\n",
    "    elif dt=='Bank':\n",
    "        from DataPreprocessing.load_bank import load_bank\n",
    "        X, y, sa_index, p_Group, x_control,F = load_bank()\n",
    "        saf=sa_index[0]\n",
    "        print(saf)\n",
    "    elif dt=='Credit':\n",
    "        from DataPreprocessing.load_credit import load_credit\n",
    "        X, y, sa_index, p_Group, x_control,F = load_credit()\n",
    "        saf=sa_index[0]\n",
    "    elif dt=='Compas':\n",
    "        from DataPreprocessing.load_compas_data import load_compas\n",
    "        X, y, sa, p_G, x_control,F = load_compas()\n",
    "        sa_index=[sa[-1],sa[0]]\n",
    "        p_Group=[p_G[-1],p_G[0]]\n",
    "    sensitives=[F[v] for v in sa_index]\n",
    "    in_ts,pred1,f1=train(X,y)\n",
    "    results.append(list(get_fairness(sa_index,p_Group,in_ts,pred1,X,y).values()))\n",
    "    performance.append(get_score(pred1,in_ts,X,y))\n",
    "    Hx.append(f1)"
   ]
  },
  {
   "cell_type": "code",
   "execution_count": 15,
   "metadata": {},
   "outputs": [],
   "source": [
    "Pareto_Fronts=[Hx[i].PF.values() for i in range(len(Hx))]"
   ]
  },
  {
   "cell_type": "code",
   "execution_count": 16,
   "metadata": {},
   "outputs": [],
   "source": [
    "ALL_solutions=[Hx[i].ob for i in range(len(Hx))]"
   ]
  },
  {
   "cell_type": "code",
   "execution_count": null,
   "metadata": {},
   "outputs": [],
   "source": [
    "pseudo_weights=[Hx[i].pseudo_weights for i in range(len(Hx))]"
   ]
  },
  {
   "cell_type": "code",
   "execution_count": null,
   "metadata": {},
   "outputs": [],
   "source": []
  }
 ],
 "metadata": {
  "kernelspec": {
   "display_name": "Python 3",
   "language": "python",
   "name": "python3"
  },
  "language_info": {
   "codemirror_mode": {
    "name": "ipython",
    "version": 3
   },
   "file_extension": ".py",
   "mimetype": "text/x-python",
   "name": "python",
   "nbconvert_exporter": "python",
   "pygments_lexer": "ipython3",
   "version": "3.7.1"
  }
 },
 "nbformat": 4,
 "nbformat_minor": 2
}
