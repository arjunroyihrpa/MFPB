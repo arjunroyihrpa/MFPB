{
 "cells": [
  {
   "cell_type": "code",
   "execution_count": 67,
   "metadata": {},
   "outputs": [
    {
     "name": "stdout",
     "output_type": "stream",
     "text": [
      "The autoreload extension is already loaded. To reload it, use:\n",
      "  %reload_ext autoreload\n"
     ]
    }
   ],
   "source": [
    "%load_ext autoreload\n",
    "%autoreload 2"
   ]
  },
  {
   "cell_type": "code",
   "execution_count": 68,
   "metadata": {},
   "outputs": [],
   "source": [
    "from sklearn.model_selection import StratifiedShuffleSplit as ss\n",
    "\n",
    "from DataPreprocessing.my_utils import get_fairness, get_score, vis\n",
    "from Maximus_optimized_non_dominated import Multi_Fair as maximus"
   ]
  },
  {
   "cell_type": "code",
   "execution_count": 69,
   "metadata": {},
   "outputs": [],
   "source": [
    "def train_classifier1(\n",
    "    X_train, X_test, y_train, y_test, sa_index, p_Group, base_learners, preference\n",
    "):\n",
    "\n",
    "    classifier = maximus(\n",
    "        n_estimators=base_learners,\n",
    "        saIndex=sa_index,\n",
    "        saValue=p_Group,\n",
    "        preference=preference,\n",
    "    )\n",
    "\n",
    "    classifier.fit(X_train, y_train)\n",
    "\n",
    "    y_pred_probs = classifier.predict_proba(X_test)[:, 1]\n",
    "    y_pred_labels = classifier.predict(X_test)\n",
    "    f = classifier.feature_importances_\n",
    "    # return classifier.conf_scores, classifier.get_weights_over_iterations(), classifier.get_initial_weights()\n",
    "    return y_pred_probs, y_pred_labels, classifier"
   ]
  },
  {
   "cell_type": "code",
   "execution_count": 85,
   "metadata": {},
   "outputs": [],
   "source": [
    "def train(X, y):\n",
    "    in_ts, pred1, fx = [], [], []\n",
    "    sss = ss(n_splits=5, test_size=0.4)\n",
    "    for train_index, test_index in sss.split(X, y):\n",
    "        X_train, X_test = X[train_index], X[test_index]\n",
    "        y_train, y_test = y[train_index], y[test_index]\n",
    "        in_ts.append(test_index)\n",
    "        pb1, pd1, f1 = train_classifier1(\n",
    "            X_train, X_test, y_train, y_test, sa_index, p_Group, 499, [0.33, 0.34, 0.33]\n",
    "        )\n",
    "        pred1.append(pd1)\n",
    "        fx.append(f1)\n",
    "        # print(f1.theta - 1, \" : \", f1.ob[f1.theta - 1])\n",
    "    return in_ts, pred1, fx"
   ]
  },
  {
   "cell_type": "code",
   "execution_count": 101,
   "metadata": {},
   "outputs": [
    {
     "name": "stdout",
     "output_type": "stream",
     "text": [
      "45175\n",
      "Features we will be using for classification are: [\"workclass_' Federal-gov'\", \"workclass_' Local-gov'\", \"workclass_' Private'\", \"workclass_' Self-emp-inc'\", \"workclass_' Self-emp-not-inc'\", \"workclass_' State-gov'\", \"workclass_' Without-pay'\", \"education_' 10th'\", \"education_' 11th'\", \"education_' 12th'\", \"education_' 1st-4th'\", \"education_' 5th-6th'\", \"education_' 7th-8th'\", \"education_' 9th'\", \"education_' Assoc-acdm'\", \"education_' Assoc-voc'\", \"education_' Bachelors'\", \"education_' Doctorate'\", \"education_' HS-grad'\", \"education_' Masters'\", \"education_' Preschool'\", \"education_' Prof-school'\", \"education_' Some-college'\", \"Maritial-status_' Divorced'\", \"Maritial-status_' Married-AF-spouse'\", \"Maritial-status_' Married-civ-spouse'\", \"Maritial-status_' Married-spouse-absent'\", \"Maritial-status_' Never-married'\", \"Maritial-status_' Separated'\", \"Maritial-status_' Widowed'\", \"occupation_' Adm-clerical'\", \"occupation_' Armed-Forces'\", \"occupation_' Craft-repair'\", \"occupation_' Exec-managerial'\", \"occupation_' Farming-fishing'\", \"occupation_' Handlers-cleaners'\", \"occupation_' Machine-op-inspct'\", \"occupation_' Other-service'\", \"occupation_' Priv-house-serv'\", \"occupation_' Prof-specialty'\", \"occupation_' Protective-serv'\", \"occupation_' Sales'\", \"occupation_' Tech-support'\", \"occupation_' Transport-moving'\", 'race', 'sex', \"country_' Cambodia'\", \"country_' Canada'\", \"country_' China'\", \"country_' Columbia'\", \"country_' Cuba'\", \"country_' Dominican-Republic'\", \"country_' Ecuador'\", \"country_' El-Salvador'\", \"country_' England'\", \"country_' France'\", \"country_' Germany'\", \"country_' Greece'\", \"country_' Guatemala'\", \"country_' Haiti'\", \"country_' Holand-Netherlands'\", \"country_' Honduras'\", \"country_' Hong'\", \"country_' Hungary'\", \"country_' India'\", \"country_' Iran'\", \"country_' Ireland'\", \"country_' Italy'\", \"country_' Jamaica'\", \"country_' Japan'\", \"country_' Laos'\", \"country_' Mexico'\", \"country_' Nicaragua'\", \"country_' Outlying-US(Guam-USVI-etc)'\", \"country_' Peru'\", \"country_' Philippines'\", \"country_' Poland'\", \"country_' Portugal'\", \"country_' Puerto-Rico'\", \"country_' Scotland'\", \"country_' South'\", \"country_' Taiwan'\", \"country_' Thailand'\", \"country_' Trinadad&Tobago'\", \"country_' United-States'\", \"country_' Vietnam'\", \"country_' Yugoslavia'\", 'age', 'Capital-gain', 'Capital-loss', 'Hours-per-week', 'Hours-per-week', 'Hours-per-week'] \n",
      "\n",
      "\n",
      "\n",
      "For Sensitive attribute index  44\n",
      "avg_TPR_unprot: 0.8767751760898534 avg_TPR_prot: 0.8666666666666666\n",
      "avg_TNR_unprot: 0.4502084081609289 avg_TNR_prot: 0.42805775713319677\n",
      "\n",
      "-------------------------------------------\n",
      "\n",
      "\n",
      "\n",
      "For Sensitive attribute index  45\n",
      "avg_TPR_unprot: 0.871059254175246 avg_TPR_prot: 0.9057142857142857\n",
      "avg_TNR_unprot: 0.44610877213171685 avg_TNR_prot: 0.44823039997107894\n",
      "\n",
      "-------------------------------------------\n",
      "\n",
      "avg_TPR: 0.875925925925926 avg_TNR: 0.4472602739726028\n",
      "avg_acc: 0.563 avg_Bacc: 0.6615930999492644\n",
      "avg_auc: 0.6615930999492642 avg_GM: 0.5522166973400349\n"
     ]
    }
   ],
   "source": [
    "results, performance, Hx = [], [], []\n",
    "for dt in [\"Adult\"]:\n",
    "    if dt == \"Adult\":\n",
    "        from DataPreprocessing.load_adult import load_adult\n",
    "\n",
    "        X, y, sa_index, p_Group, x_control, F = load_adult()\n",
    "        how_many = 1000\n",
    "        X = X[:how_many, :]\n",
    "        y = y[:how_many]\n",
    "        x_control[\"race\"] = x_control[\"race\"][:how_many]\n",
    "        x_control[\"sex\"] = x_control[\"sex\"][:how_many]\n",
    "        # v='Adult_2_sensi_Mari_Sex'\n",
    "        saf = sa_index[1]\n",
    "    elif dt == \"Bank\":\n",
    "        from DataPreprocessing.load_bank import load_bank\n",
    "\n",
    "        X, y, sa_index, p_Group, x_control, F = load_bank()\n",
    "        saf = sa_index[0]\n",
    "        print(saf)\n",
    "    elif dt == \"Credit\":\n",
    "        from DataPreprocessing.load_credit import load_credit\n",
    "\n",
    "        X, y, sa_index, p_Group, x_control, F = load_credit()\n",
    "        saf = sa_index[0]\n",
    "    elif dt == \"Compas\":\n",
    "        from DataPreprocessing.load_compas_data import load_compas\n",
    "\n",
    "        X, y, sa, p_G, x_control, F = load_compas()\n",
    "        sa_index = [sa[-1], sa[0]]\n",
    "        p_Group = [p_G[-1], p_G[0]]\n",
    "    sensitives = [F[v] for v in sa_index]\n",
    "    in_ts, pred1, f1 = train(X, y)\n",
    "    results.append(list(get_fairness(sa_index, p_Group, in_ts, pred1, X, y).values()))\n",
    "    performance.append(get_score(pred1, in_ts, X, y))\n",
    "    Hx.append(f1)"
   ]
  },
  {
   "cell_type": "code",
   "execution_count": 102,
   "metadata": {},
   "outputs": [
    {
     "data": {
      "text/plain": [
       "[0.33, 0.34, 0.33]"
      ]
     },
     "execution_count": 102,
     "metadata": {},
     "output_type": "execute_result"
    }
   ],
   "source": [
    "Hx[0][0].preference"
   ]
  },
  {
   "cell_type": "code",
   "execution_count": 103,
   "metadata": {},
   "outputs": [],
   "source": [
    "import numpy as np\n",
    "\n",
    "from selection import PreferenceSurvival"
   ]
  },
  {
   "cell_type": "code",
   "execution_count": 159,
   "metadata": {},
   "outputs": [],
   "source": [
    "preference_vectors = np.array(Hx[0][0].preference).reshape(1, -1)\n",
    "# Add more for testing\n",
    "preference_vectors = np.row_stack([[0,0.8,0.2], [1.0,0,0], [0,0.5,0.5], preference_vectors])\n",
    "objective_values = Hx[0][0].ob\n",
    "\n",
    "(\n",
    "    survived_solutions,\n",
    "    survived_sol_idx,\n",
    "    optimal_solution_set,\n",
    "    index_in_complete_solution_set,\n",
    ") = PreferenceSurvival(preference_vectors).do(objective_values, n_survive=5)"
   ]
  },
  {
   "cell_type": "code",
   "execution_count": 160,
   "metadata": {},
   "outputs": [
    {
     "data": {
      "text/plain": [
       "array([[0.15666667, 0.25892102, 0.05703625],\n",
       "       [0.14833333, 0.28724844, 0.04960528],\n",
       "       [0.145     , 0.32563842, 0.0505479 ]])"
      ]
     },
     "execution_count": 160,
     "metadata": {},
     "output_type": "execute_result"
    }
   ],
   "source": [
    "optimal_solution_set"
   ]
  },
  {
   "cell_type": "code",
   "execution_count": 161,
   "metadata": {},
   "outputs": [
    {
     "data": {
      "text/plain": [
       "array([328, 369, 498])"
      ]
     },
     "execution_count": 161,
     "metadata": {},
     "output_type": "execute_result"
    }
   ],
   "source": [
    "index_in_complete_solution_set"
   ]
  },
  {
   "cell_type": "code",
   "execution_count": 162,
   "metadata": {},
   "outputs": [
    {
     "data": {
      "text/plain": [
       "array([[0.15666667, 0.25892102, 0.05703625],\n",
       "       [0.145     , 0.32563842, 0.0505479 ],\n",
       "       [0.27      , 1.        , 0.        ],\n",
       "       [0.145     , 0.30027059, 0.09692956],\n",
       "       [0.15166667, 0.27422628, 0.05773536]])"
      ]
     },
     "execution_count": 162,
     "metadata": {},
     "output_type": "execute_result"
    }
   ],
   "source": [
    "survived_solutions"
   ]
  },
  {
   "cell_type": "code",
   "execution_count": 163,
   "metadata": {},
   "outputs": [
    {
     "data": {
      "text/plain": [
       "array([328, 498,   1, 415, 388])"
      ]
     },
     "execution_count": 163,
     "metadata": {},
     "output_type": "execute_result"
    }
   ],
   "source": [
    "survived_sol_idx"
   ]
  },
  {
   "cell_type": "code",
   "execution_count": 129,
   "metadata": {},
   "outputs": [
    {
     "ename": "NameError",
     "evalue": "name 'max_solutions' is not defined",
     "output_type": "error",
     "traceback": [
      "\u001b[0;31m---------------------------------------------------------------------------\u001b[0m",
      "\u001b[0;31mNameError\u001b[0m                                 Traceback (most recent call last)",
      "\u001b[0;32m<ipython-input-129-28c0f86169e6>\u001b[0m in \u001b[0;36m<module>\u001b[0;34m\u001b[0m\n\u001b[1;32m      1\u001b[0m print(\n\u001b[0;32m----> 2\u001b[0;31m     \u001b[0;34mf\"{optimal_solution_set.shape[0]}/{max_solutions} final solutions with respect to the {len(preference_vectors)} reference vector\"\u001b[0m\u001b[0;34m\u001b[0m\u001b[0;34m\u001b[0m\u001b[0m\n\u001b[0m\u001b[1;32m      3\u001b[0m )\n",
      "\u001b[0;31mNameError\u001b[0m: name 'max_solutions' is not defined"
     ]
    }
   ],
   "source": [
    "print(\n",
    "    f\"{optimal_solution_set.shape[0]}/{max_solutions} final solutions with respect to the {len(preference_vectors)} reference vector\"\n",
    ")"
   ]
  },
  {
   "cell_type": "code",
   "execution_count": null,
   "metadata": {},
   "outputs": [],
   "source": [
    "preference_vectors"
   ]
  },
  {
   "cell_type": "code",
   "execution_count": null,
   "metadata": {},
   "outputs": [],
   "source": [
    "optimal_solution_set"
   ]
  },
  {
   "cell_type": "code",
   "execution_count": null,
   "metadata": {},
   "outputs": [],
   "source": [
    "np.unique(optimal_solution_set, axis=0)"
   ]
  },
  {
   "cell_type": "code",
   "execution_count": null,
   "metadata": {},
   "outputs": [],
   "source": []
  },
  {
   "cell_type": "code",
   "execution_count": null,
   "metadata": {},
   "outputs": [],
   "source": []
  }
 ],
 "metadata": {
  "kernelspec": {
   "display_name": "Python 3",
   "language": "python",
   "name": "python3"
  },
  "language_info": {
   "codemirror_mode": {
    "name": "ipython",
    "version": 3
   },
   "file_extension": ".py",
   "mimetype": "text/x-python",
   "name": "python",
   "nbconvert_exporter": "python",
   "pygments_lexer": "ipython3",
   "version": "3.8.6"
  }
 },
 "nbformat": 4,
 "nbformat_minor": 4
}
