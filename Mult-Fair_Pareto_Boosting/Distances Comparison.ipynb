{
 "cells": [
  {
   "cell_type": "code",
   "execution_count": 106,
   "id": "alive-pleasure",
   "metadata": {},
   "outputs": [],
   "source": [
    "import numpy as np\n",
    "\n",
    "import matplotlib.pyplot as plt"
   ]
  },
  {
   "cell_type": "code",
   "execution_count": 107,
   "id": "covered-machinery",
   "metadata": {},
   "outputs": [],
   "source": [
    "def cosd(v1,v2):\n",
    "    return np.dot(v1,v2)/(np.linalg.norm(v1)*np.linalg.norm(v2))"
   ]
  },
  {
   "cell_type": "code",
   "execution_count": 108,
   "id": "hourly-dallas",
   "metadata": {},
   "outputs": [],
   "source": [
    "def calc_perpendicular_distance(N, ref_dirs):\n",
    "    u = np.tile(ref_dirs, (len(N), 1))\n",
    "    v = np.repeat(N, len(ref_dirs), axis=0)\n",
    "\n",
    "    norm_u = np.linalg.norm(u, axis=1)\n",
    "    #print(\"norm_u\", norm_u)\n",
    "\n",
    "    scalar_proj = np.sum(v * u, axis=1) / norm_u\n",
    "    #print(\"scalar_proj\", scalar_proj)\n",
    "    proj = scalar_proj[:, None] * u / norm_u[:, None]\n",
    "    #print(\"proj\", proj)\n",
    "    val = np.linalg.norm(proj - v, axis=1)\n",
    "    #print(\"val\", val)\n",
    "    matrix = np.reshape(val, (len(N), len(ref_dirs)))\n",
    "\n",
    "    return matrix"
   ]
  },
  {
   "cell_type": "code",
   "execution_count": 109,
   "id": "periodic-belfast",
   "metadata": {},
   "outputs": [
    {
     "data": {
      "text/plain": [
       "array([[0, 1],\n",
       "       [1, 0]])"
      ]
     },
     "execution_count": 109,
     "metadata": {},
     "output_type": "execute_result"
    }
   ],
   "source": [
    "niches = np.array([\n",
    "    [0,1],\n",
    "    [1,0]\n",
    "])\n",
    "niches"
   ]
  },
  {
   "cell_type": "code",
   "execution_count": 165,
   "id": "premium-microwave",
   "metadata": {},
   "outputs": [
    {
     "data": {
      "text/plain": [
       "array([[0.3, 0.8],\n",
       "       [0.5, 0.1]])"
      ]
     },
     "execution_count": 165,
     "metadata": {},
     "output_type": "execute_result"
    }
   ],
   "source": [
    "niches = np.array([\n",
    "    [0.3,0.8],\n",
    "    [0.5,0.1]\n",
    "])\n",
    "niches"
   ]
  },
  {
   "cell_type": "code",
   "execution_count": 159,
   "id": "instructional-meeting",
   "metadata": {},
   "outputs": [
    {
     "data": {
      "text/plain": [
       "array([[0.36666738, 0.28451164],\n",
       "       [0.73669418, 0.73385952],\n",
       "       [0.0709134 , 0.52345743],\n",
       "       [0.73900485, 0.07549662],\n",
       "       [0.91083183, 0.32705441],\n",
       "       [0.89189681, 0.3171705 ],\n",
       "       [0.48349732, 0.44694406],\n",
       "       [0.92497654, 0.93784211],\n",
       "       [0.98964626, 0.14968975],\n",
       "       [0.19470512, 0.4772333 ],\n",
       "       [0.26646787, 0.49373284],\n",
       "       [0.08151933, 0.84697233],\n",
       "       [0.29831519, 0.05786213],\n",
       "       [0.30964471, 0.05458284],\n",
       "       [0.44427686, 0.51831521],\n",
       "       [0.5693509 , 0.58799544],\n",
       "       [0.62749574, 0.30418356],\n",
       "       [0.18335917, 0.41083945],\n",
       "       [0.63119184, 0.58241403],\n",
       "       [0.56549044, 0.9830076 ]])"
      ]
     },
     "execution_count": 159,
     "metadata": {},
     "output_type": "execute_result"
    }
   ],
   "source": [
    "N = np.random.random(size=(20,2))\n",
    "N"
   ]
  },
  {
   "cell_type": "code",
   "execution_count": 166,
   "id": "august-praise",
   "metadata": {},
   "outputs": [
    {
     "name": "stdout",
     "output_type": "stream",
     "text": [
      "0.14859021184738896\n",
      "0.09043286524367966\n",
      "0.02500976211631356\n",
      "0.5555346611539405\n",
      "0.35310575230808505\n",
      "0.3554477119161751\n",
      "0.10657934070279085\n",
      "0.08679736888126988\n",
      "0.5127930493146664\n",
      "0.0004090172559662042\n",
      "0.009251482967491897\n",
      "0.03433839046646692\n",
      "0.47701032982828273\n",
      "0.4916618713067201\n",
      "0.060580331670474385\n",
      "0.08308624138850917\n",
      "0.2756090850922156\n",
      "0.0018602376842214996\n",
      "0.10698629440880325\n",
      "0.013297856112670647\n",
      "0.10506065975708534\n",
      "0.16688200490863703\n",
      "0.6740210879668664\n",
      "0.004565142547800716\n",
      "0.010834686683019235\n",
      "0.010389069172589083\n",
      "0.1468159286499796\n",
      "0.1718004990832266\n",
      "0.00111738044584353\n",
      "0.4479936303875538\n",
      "0.36169300303403207\n",
      "0.7108412555023191\n",
      "1.6886323095155475e-05\n",
      "0.0002624764642176203\n",
      "0.2129394982323466\n",
      "0.17699256398879448\n",
      "0.03208098269763793\n",
      "0.42126930621665204\n",
      "0.14634417148268652\n",
      "0.3410444068700711\n"
     ]
    }
   ],
   "source": [
    "map_cosd=[]\n",
    "for ref in niches:   \n",
    "    dmin,v,pos=1,[],0 \n",
    "    for i in range(len(N)):\n",
    "        d=1-cosd(np.array(ref),np.array(N[i]))\n",
    "        print(d)\n",
    "        if d<dmin:\n",
    "            dmin=d\n",
    "            #v=F[i]\n",
    "            sol = N[i]\n",
    "            pos=i\n",
    "    map_cosd.append([ref,sol,pos])"
   ]
  },
  {
   "cell_type": "code",
   "execution_count": 167,
   "id": "republican-symphony",
   "metadata": {},
   "outputs": [
    {
     "data": {
      "text/plain": [
       "[[array([0.3, 0.8]), array([0.19470512, 0.4772333 ]), 9],\n",
       " [array([0.5, 0.1]), array([0.29831519, 0.05786213]), 12]]"
      ]
     },
     "execution_count": 167,
     "metadata": {},
     "output_type": "execute_result"
    }
   ],
   "source": [
    "map_cosd"
   ]
  },
  {
   "cell_type": "code",
   "execution_count": 168,
   "id": "nominated-silly",
   "metadata": {},
   "outputs": [
    {
     "name": "stdout",
     "output_type": "stream",
     "text": [
      "[[0.24342266 0.20707723]\n",
      " [0.43211298 0.57513085]\n",
      " [0.11739989 0.49938498]\n",
      " [0.66544317 0.07090025]\n",
      " [0.73800195 0.14207441]\n",
      " [0.72374301 0.13609591]\n",
      " [0.29578012 0.34344308]\n",
      " [0.53678417 0.73822702]\n",
      " [0.87407509 0.04730272]\n",
      " [0.01474028 0.42978093]\n",
      " [0.07614047 0.43188623]\n",
      " [0.22106291 0.81453744]\n",
      " [0.25900447 0.00176594]\n",
      " [0.27076406 0.00720344]\n",
      " [0.23399677 0.42112001]\n",
      " [0.32664088 0.46491807]\n",
      " [0.48073659 0.17521448]\n",
      " [0.02742917 0.36690153]\n",
      " [0.38650412 0.44731704]\n",
      " [0.18432819 0.85301646]]\n",
      "[0.20707723 0.43211298 0.11739989 0.07090025 0.14207441 0.13609591\n",
      " 0.29578012 0.53678417 0.04730272 0.01474028 0.07614047 0.22106291\n",
      " 0.00176594 0.00720344 0.23399677 0.32664088 0.17521448 0.02742917\n",
      " 0.38650412 0.18432819]\n",
      "[ 9 12]\n"
     ]
    }
   ],
   "source": [
    "dist_matrix = calc_perpendicular_distance(N, niches)\n",
    "print(dist_matrix)\n",
    "niche_of_individuals = np.argmin(dist_matrix, axis=1)\n",
    "#print(niche_of_individuals)\n",
    "dist_to_niche = dist_matrix[np.arange(N.shape[0]), niche_of_individuals]\n",
    "print(dist_to_niche)\n",
    "closest = dist_matrix[:, np.unique(niche_of_individuals)].argmin(axis=0)\n",
    "dists = dist_matrix[closest,np.unique(niche_of_individuals)]\n",
    "print(closest)\n",
    "perpen = list(zip(niches[np.unique(niche_of_individuals)],N[closest],closest,dists))"
   ]
  },
  {
   "cell_type": "code",
   "execution_count": 169,
   "id": "relative-devices",
   "metadata": {},
   "outputs": [
    {
     "data": {
      "text/plain": [
       "[(array([0.3, 0.8]), array([0.19470512, 0.4772333 ]), 9, 0.014740284872290559),\n",
       " (array([0.5, 0.1]),\n",
       "  array([0.29831519, 0.05786213]),\n",
       "  12,\n",
       "  0.001765938585516706)]"
      ]
     },
     "execution_count": 169,
     "metadata": {},
     "output_type": "execute_result"
    }
   ],
   "source": [
    "perpen"
   ]
  },
  {
   "cell_type": "code",
   "execution_count": 170,
   "id": "million-audit",
   "metadata": {},
   "outputs": [
    {
     "data": {
      "text/plain": [
       "Text(0.5, 1.0, 'Cosine distance')"
      ]
     },
     "execution_count": 170,
     "metadata": {},
     "output_type": "execute_result"
    },
    {
     "data": {
      "image/png": "[encoded data removed]",
      "text/plain": [
       "<Figure size 432x288 with 2 Axes>"
      ]
     },
     "metadata": {
      "needs_background": "light"
     },
     "output_type": "display_data"
    }
   ],
   "source": [
    "#fig = plt.figure(figsize=(4,4))\n",
    "\n",
    "scale = 0.6\n",
    "\n",
    "ax = plt.subplot(1,2,1)\n",
    "\n",
    "x, y = np.zeros((2,niches.shape[1]))\n",
    "u, v = niches\n",
    "#ax.quiver(x,y,u,v,color=\"blue\", label=\"Ref dirs\", zorder=0)\n",
    "ax.scatter(N[:,0], N[:,1], color=\"grey\", label=\"Solutions\")\n",
    "colors = [\"blue\", \"red\", \"green\"]\n",
    "i = 0\n",
    "for ref,sol,idx,d in perpen:\n",
    "    ax.scatter(sol[0],sol[1],color=colors[i])\n",
    "    x, y = np.zeros((2,niches.shape[1]))\n",
    "    u, v = ref\n",
    "    ax.quiver(x,y,u,v,color=colors[i], label=\"Ref dirs\", scale=scale)\n",
    "    i += 1\n",
    "ax.set_title(\"Perpendicular distance\")\n",
    "    \n",
    "ax = plt.subplot(1,2,2)\n",
    "\n",
    "x, y = np.zeros((2,niches.shape[1]))\n",
    "u, v = niches\n",
    "#ax.quiver(x,y,u,v,color=\"blue\", label=\"Ref dirs\", zorder=0)\n",
    "ax.scatter(N[:,0], N[:,1], color=\"grey\", label=\"Solutions\")\n",
    "colors = [\"blue\", \"red\", \"green\"]\n",
    "i = 0\n",
    "for ref,sol,idx in map_cosd:\n",
    "    ax.scatter(sol[0],sol[1],color=colors[i])\n",
    "    x, y = np.zeros((2,niches.shape[1]))\n",
    "    u, v = ref\n",
    "    ax.quiver(x,y,u,v,color=colors[i], label=\"Ref dirs\", scale=scale)\n",
    "    i += 1\n",
    "ax.set_title(\"Cosine distance\")"
   ]
  },
  {
   "cell_type": "code",
   "execution_count": null,
   "id": "linear-spring",
   "metadata": {},
   "outputs": [],
   "source": []
  },
  {
   "cell_type": "code",
   "execution_count": null,
   "id": "embedded-privilege",
   "metadata": {},
   "outputs": [],
   "source": []
  },
  {
   "cell_type": "code",
   "execution_count": null,
   "id": "introductory-microwave",
   "metadata": {},
   "outputs": [],
   "source": []
  }
 ],
 "metadata": {
  "kernelspec": {
   "display_name": "Python 3",
   "language": "python",
   "name": "python3"
  },
  "language_info": {
   "codemirror_mode": {
    "name": "ipython",
    "version": 3
   },
   "file_extension": ".py",
   "mimetype": "text/x-python",
   "name": "python",
   "nbconvert_exporter": "python",
   "pygments_lexer": "ipython3",
   "version": "3.8.6"
  }
 },
 "nbformat": 4,
 "nbformat_minor": 5
}
