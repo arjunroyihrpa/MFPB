{
 "cells": [
  {
   "cell_type": "code",
   "execution_count": 106,
   "id": "diagnostic-philadelphia",
   "metadata": {},
   "outputs": [],
   "source": [
    "import numpy as np\n",
    "\n",
    "import matplotlib.pyplot as plt"
   ]
  },
  {
   "cell_type": "code",
   "execution_count": 107,
   "id": "spanish-monkey",
   "metadata": {},
   "outputs": [],
   "source": [
    "def cosd(v1,v2):\n",
    "    return np.dot(v1,v2)/(np.linalg.norm(v1)*np.linalg.norm(v2))"
   ]
  },
  {
   "cell_type": "code",
   "execution_count": 108,
   "id": "ceramic-links",
   "metadata": {},
   "outputs": [],
   "source": [
    "def calc_perpendicular_distance(N, ref_dirs):\n",
    "    u = np.tile(ref_dirs, (len(N), 1))\n",
    "    v = np.repeat(N, len(ref_dirs), axis=0)\n",
    "\n",
    "    norm_u = np.linalg.norm(u, axis=1)\n",
    "    #print(\"norm_u\", norm_u)\n",
    "\n",
    "    scalar_proj = np.sum(v * u, axis=1) / norm_u\n",
    "    #print(\"scalar_proj\", scalar_proj)\n",
    "    proj = scalar_proj[:, None] * u / norm_u[:, None]\n",
    "    #print(\"proj\", proj)\n",
    "    val = np.linalg.norm(proj - v, axis=1)\n",
    "    #print(\"val\", val)\n",
    "    matrix = np.reshape(val, (len(N), len(ref_dirs)))\n",
    "\n",
    "    return matrix"
   ]
  },
  {
   "cell_type": "code",
   "execution_count": 109,
   "id": "american-pastor",
   "metadata": {},
   "outputs": [
    {
     "data": {
      "text/plain": [
       "array([[0, 1],\n",
       "       [1, 0]])"
      ]
     },
     "execution_count": 109,
     "metadata": {},
     "output_type": "execute_result"
    }
   ],
   "source": [
    "niches = np.array([\n",
    "    [0,1],\n",
    "    [1,0]\n",
    "])\n",
    "niches"
   ]
  },
  {
   "cell_type": "code",
   "execution_count": 110,
   "id": "efficient-dressing",
   "metadata": {},
   "outputs": [
    {
     "data": {
      "text/plain": [
       "array([[0.3, 0.8],\n",
       "       [0.5, 0.1]])"
      ]
     },
     "execution_count": 110,
     "metadata": {},
     "output_type": "execute_result"
    }
   ],
   "source": [
    "niches = np.array([\n",
    "    [0.3,0.8],\n",
    "    [0.5,0.1]\n",
    "])\n",
    "niches"
   ]
  },
  {
   "cell_type": "code",
   "execution_count": 111,
   "id": "careful-ethnic",
   "metadata": {},
   "outputs": [
    {
     "data": {
      "text/plain": [
       "array([[0.86010714, 0.6745889 ],\n",
       "       [0.90269695, 0.51749136],\n",
       "       [0.02468619, 0.58994646],\n",
       "       [0.93762616, 0.92270346],\n",
       "       [0.34699085, 0.65259402],\n",
       "       [0.53914096, 0.7901658 ],\n",
       "       [0.11176983, 0.56135489],\n",
       "       [0.67736777, 0.51383591],\n",
       "       [0.87910963, 0.63382229],\n",
       "       [0.8412054 , 0.87340403],\n",
       "       [0.54902917, 0.26297441],\n",
       "       [0.24024865, 0.69806254],\n",
       "       [0.60242776, 0.50388212],\n",
       "       [0.6526991 , 0.83937478],\n",
       "       [0.42295597, 0.38264538],\n",
       "       [0.23363244, 0.05091299],\n",
       "       [0.09918087, 0.09412451],\n",
       "       [0.1220254 , 0.54737926],\n",
       "       [0.76362476, 0.46195773],\n",
       "       [0.3863605 , 0.28944226]])"
      ]
     },
     "execution_count": 111,
     "metadata": {},
     "output_type": "execute_result"
    }
   ],
   "source": [
    "N = np.random.random(size=(20,2))\n",
    "N"
   ]
  },
  {
   "cell_type": "code",
   "execution_count": 112,
   "id": "bigger-cisco",
   "metadata": {},
   "outputs": [
    {
     "name": "stdout",
     "output_type": "stream",
     "text": [
      "0.9261211233191846\n",
      "0.9708041860911583\n",
      "0.3146805223232793\n",
      "0.8780246283989771\n",
      "0.6939729050380261\n",
      "0.7688602492404218\n",
      "0.457193185293531\n",
      "0.9320854167459274\n",
      "0.9406112807805806\n",
      "0.864884904709571\n",
      "0.9858556044510393\n",
      "0.5726762843390695\n",
      "0.9137982775713299\n",
      "0.8071054922335994\n",
      "0.8973351574394409\n",
      "0.9979696150823238\n",
      "0.886557180056264\n",
      "0.47735288052808156\n",
      "0.9648946402872782\n",
      "0.93424588340443\n",
      "0.9216057858348885\n",
      "0.8560783077271676\n",
      "0.8936968225577353\n",
      "0.9592894012416776\n",
      "0.9998306187132319\n",
      "0.9958022916799375\n",
      "0.9521621287477364\n",
      "0.9152252625111894\n",
      "0.9051651285932019\n",
      "0.9665125274680904\n",
      "0.8156141009279315\n",
      "0.9846164132474723\n",
      "0.9333573353345037\n",
      "0.9881907389561047\n",
      "0.9465931866553483\n",
      "0.6606341675370196\n",
      "0.95401164681967\n",
      "0.9588824508550321\n",
      "0.8679961345913694\n",
      "0.9127867660929241\n"
     ]
    }
   ],
   "source": [
    "map_cosd=[]\n",
    "for ref in niches:   \n",
    "    dmin,v,pos=1,[],0 \n",
    "    for i in range(len(N)):\n",
    "        d=cosd(1-np.array(ref),np.array(N[i]))\n",
    "        print(d)\n",
    "        if d<dmin:\n",
    "            dmin=d\n",
    "            #v=F[i]\n",
    "            sol = N[i]\n",
    "            pos=i\n",
    "    map_cosd.append([ref,sol,pos])"
   ]
  },
  {
   "cell_type": "code",
   "execution_count": 113,
   "id": "delayed-oklahoma",
   "metadata": {},
   "outputs": [
    {
     "data": {
      "text/plain": [
       "[[array([0.3, 0.8]), array([0.02468619, 0.58994646]), 2],\n",
       " [array([0.5, 0.1]), array([0.23363244, 0.05091299]), 15]]"
      ]
     },
     "execution_count": 113,
     "metadata": {},
     "output_type": "execute_result"
    }
   ],
   "source": [
    "map_cosd"
   ]
  },
  {
   "cell_type": "code",
   "execution_count": 114,
   "id": "respected-river",
   "metadata": {},
   "outputs": [
    {
     "name": "stdout",
     "output_type": "stream",
     "text": [
      "[[0.56847944 0.49280795]\n",
      " [0.66351814 0.33040859]\n",
      " [0.18402963 0.57364874]\n",
      " [0.55394391 0.72090157]\n",
      " [0.0957566  0.57187058]\n",
      " [0.22736768 0.66908707]\n",
      " [0.09245151 0.52853389]\n",
      " [0.45381938 0.37101481]\n",
      " [0.60058613 0.44910631]\n",
      " [0.48097253 0.69146916]\n",
      " [0.42173555 0.15019414]\n",
      " [0.0201543  0.63739   ]\n",
      " [0.38714586 0.37595127]\n",
      " [0.31641705 0.69506986]\n",
      " [0.26167026 0.29226617]\n",
      " [0.20088013 0.00410521]\n",
      " [0.05981662 0.0728457 ]\n",
      " [0.07794175 0.51281838]\n",
      " [0.55279996 0.30322768]\n",
      " [0.26013064 0.20804996]]\n",
      "[0.49280795 0.33040859 0.18402963 0.55394391 0.0957566  0.22736768\n",
      " 0.09245151 0.37101481 0.44910631 0.48097253 0.15019414 0.0201543\n",
      " 0.37595127 0.31641705 0.26167026 0.00410521 0.05981662 0.07794175\n",
      " 0.30322768 0.20804996]\n",
      "[11 15]\n"
     ]
    }
   ],
   "source": [
    "dist_matrix = calc_perpendicular_distance(N, niches)\n",
    "print(dist_matrix)\n",
    "niche_of_individuals = np.argmin(dist_matrix, axis=1)\n",
    "#print(niche_of_individuals)\n",
    "dist_to_niche = dist_matrix[np.arange(N.shape[0]), niche_of_individuals]\n",
    "print(dist_to_niche)\n",
    "closest = dist_matrix[:, np.unique(niche_of_individuals)].argmin(axis=0)\n",
    "dists = dist_matrix[closest,np.unique(niche_of_individuals)]\n",
    "print(closest)\n",
    "perpen = list(zip(niches[np.unique(niche_of_individuals)],N[closest],closest,dists))"
   ]
  },
  {
   "cell_type": "code",
   "execution_count": 115,
   "id": "pharmaceutical-plasma",
   "metadata": {},
   "outputs": [
    {
     "data": {
      "text/plain": [
       "[(array([0.3, 0.8]),\n",
       "  array([0.24024865, 0.69806254]),\n",
       "  11,\n",
       "  0.020154299423041425),\n",
       " (array([0.5, 0.1]),\n",
       "  array([0.23363244, 0.05091299]),\n",
       "  15,\n",
       "  0.004105207370179643)]"
      ]
     },
     "execution_count": 115,
     "metadata": {},
     "output_type": "execute_result"
    }
   ],
   "source": [
    "perpen"
   ]
  },
  {
   "cell_type": "code",
   "execution_count": 116,
   "id": "productive-peeing",
   "metadata": {},
   "outputs": [
    {
     "data": {
      "text/plain": [
       "Text(0.5, 1.0, 'Cosine distance')"
      ]
     },
     "execution_count": 116,
     "metadata": {},
     "output_type": "execute_result"
    },
    {
     "data": {
      "image/png": "[encoded data removed]",
      "text/plain": [
       "<Figure size 432x288 with 2 Axes>"
      ]
     },
     "metadata": {
      "needs_background": "light"
     },
     "output_type": "display_data"
    }
   ],
   "source": [
    "#fig = plt.figure(figsize=(4,4))\n",
    "\n",
    "scale = 0.6\n",
    "\n",
    "ax = plt.subplot(1,2,1)\n",
    "\n",
    "x, y = np.zeros((2,niches.shape[1]))\n",
    "u, v = niches\n",
    "#ax.quiver(x,y,u,v,color=\"blue\", label=\"Ref dirs\", zorder=0)\n",
    "ax.scatter(N[:,0], N[:,1], color=\"grey\", label=\"Solutions\")\n",
    "colors = [\"blue\", \"red\", \"green\"]\n",
    "i = 0\n",
    "for ref,sol,idx,d in perpen:\n",
    "    ax.scatter(sol[0],sol[1],color=colors[i])\n",
    "    x, y = np.zeros((2,niches.shape[1]))\n",
    "    u, v = ref\n",
    "    ax.quiver(x,y,u,v,color=colors[i], label=\"Ref dirs\", scale=scale)\n",
    "    i += 1\n",
    "ax.set_title(\"Perpendicular distance\")\n",
    "    \n",
    "ax = plt.subplot(1,2,2)\n",
    "\n",
    "x, y = np.zeros((2,niches.shape[1]))\n",
    "u, v = niches\n",
    "#ax.quiver(x,y,u,v,color=\"blue\", label=\"Ref dirs\", zorder=0)\n",
    "ax.scatter(N[:,0], N[:,1], color=\"grey\", label=\"Solutions\")\n",
    "colors = [\"blue\", \"red\", \"green\"]\n",
    "i = 0\n",
    "for ref,sol,idx in map_cosd:\n",
    "    ax.scatter(sol[0],sol[1],color=colors[i])\n",
    "    x, y = np.zeros((2,niches.shape[1]))\n",
    "    u, v = ref\n",
    "    ax.quiver(x,y,u,v,color=colors[i], label=\"Ref dirs\", scale=scale)\n",
    "    i += 1\n",
    "ax.set_title(\"Cosine distance\")"
   ]
  },
  {
   "cell_type": "code",
   "execution_count": null,
   "id": "tough-conservation",
   "metadata": {},
   "outputs": [],
   "source": []
  },
  {
   "cell_type": "code",
   "execution_count": null,
   "id": "republican-broadcasting",
   "metadata": {},
   "outputs": [],
   "source": []
  },
  {
   "cell_type": "code",
   "execution_count": null,
   "id": "ancient-metallic",
   "metadata": {},
   "outputs": [],
   "source": []
  }
 ],
 "metadata": {
  "kernelspec": {
   "display_name": "Python 3",
   "language": "python",
   "name": "python3"
  },
  "language_info": {
   "codemirror_mode": {
    "name": "ipython",
    "version": 3
   },
   "file_extension": ".py",
   "mimetype": "text/x-python",
   "name": "python",
   "nbconvert_exporter": "python",
   "pygments_lexer": "ipython3",
   "version": "3.8.6"
  }
 },
 "nbformat": 4,
 "nbformat_minor": 5
}
